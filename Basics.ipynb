{
 "cells": [
  {
   "cell_type": "markdown",
   "metadata": {},
   "source": [
    "TODO:\n",
    "- Create a title\n",
    "- Review text and content\n",
    "- Include dataset sources"
   ]
  },
  {
   "cell_type": "markdown",
   "metadata": {
    "collapsed": true
   },
   "source": [
    "In this guided project, we'll work with exit surveys from employees of the Department of Education, Training and Employment (DETE) and the Technical and Further Education (TAFE) institute in Queensland, Australia.\n",
    "\n",
    "In this project, we'll play the role of data analyst and pretend our stakeholders want to know the following:\n",
    "\n",
    "- Are employees who only worked for the institutes for a short period of time resigning due to some kind of dissatisfaction? What about employees who have been there longer?\n",
    "- Are younger employees resigning due to some kind of dissatisfaction? What about older employees?\n",
    "\n",
    "They want us to combine the results for both surveys to answer these questions. However, although both used the same survey template, one of them customized some of the answers."
   ]
  },
  {
   "cell_type": "code",
   "execution_count": 117,
   "metadata": {
    "collapsed": true
   },
   "outputs": [],
   "source": [
    "import pandas as pd\n",
    "import numpy as np\n",
    "import matplotlib.pyplot as plt\n",
    "%matplotlib inline"
   ]
  },
  {
   "cell_type": "code",
   "execution_count": 118,
   "metadata": {
    "collapsed": false
   },
   "outputs": [
    {
     "name": "stdout",
     "output_type": "stream",
     "text": [
      "   ID                    SeparationType Cease Date  DETE Start Date  \\\n",
      "0   1             Ill Health Retirement    08/2012           1984.0   \n",
      "1   2  Voluntary Early Retirement (VER)    08/2012              NaN   \n",
      "2   3  Voluntary Early Retirement (VER)    05/2012           2011.0   \n",
      "3   4         Resignation-Other reasons    05/2012           2005.0   \n",
      "4   5                    Age Retirement    05/2012           1970.0   \n",
      "\n",
      "   Role Start Date                                      Position  \\\n",
      "0           2004.0                                Public Servant   \n",
      "1              NaN                                Public Servant   \n",
      "2           2011.0                               Schools Officer   \n",
      "3           2006.0                                       Teacher   \n",
      "4           1989.0  Head of Curriculum/Head of Special Education   \n",
      "\n",
      "  Classification              Region                      Business Unit  \\\n",
      "0        A01-A04      Central Office  Corporate Strategy and Peformance   \n",
      "1        AO5-AO7      Central Office  Corporate Strategy and Peformance   \n",
      "2            NaN      Central Office               Education Queensland   \n",
      "3        Primary  Central Queensland                                NaN   \n",
      "4            NaN          South East                                NaN   \n",
      "\n",
      "     Employment Status  ...   Kept informed  Wellness programs  \\\n",
      "0  Permanent Full-time  ...               N                  N   \n",
      "1  Permanent Full-time  ...               N                  N   \n",
      "2  Permanent Full-time  ...               N                  N   \n",
      "3  Permanent Full-time  ...               A                  N   \n",
      "4  Permanent Full-time  ...               N                  A   \n",
      "\n",
      "   Health & Safety  Gender          Age  Aboriginal  Torres Strait  South Sea  \\\n",
      "0                N    Male        56-60         NaN            NaN        NaN   \n",
      "1                N    Male        56-60         NaN            NaN        NaN   \n",
      "2                N    Male  61 or older         NaN            NaN        NaN   \n",
      "3                A  Female        36-40         NaN            NaN        NaN   \n",
      "4                M  Female  61 or older         NaN            NaN        NaN   \n",
      "\n",
      "   Disability  NESB  \n",
      "0         NaN   Yes  \n",
      "1         NaN   NaN  \n",
      "2         NaN   NaN  \n",
      "3         NaN   NaN  \n",
      "4         NaN   NaN  \n",
      "\n",
      "[5 rows x 56 columns]\n",
      "<class 'pandas.core.frame.DataFrame'>\n",
      "RangeIndex: 822 entries, 0 to 821\n",
      "Data columns (total 56 columns):\n",
      "ID                                     822 non-null int64\n",
      "SeparationType                         822 non-null object\n",
      "Cease Date                             788 non-null object\n",
      "DETE Start Date                        749 non-null float64\n",
      "Role Start Date                        724 non-null float64\n",
      "Position                               817 non-null object\n",
      "Classification                         455 non-null object\n",
      "Region                                 717 non-null object\n",
      "Business Unit                          126 non-null object\n",
      "Employment Status                      817 non-null object\n",
      "Career move to public sector           822 non-null bool\n",
      "Career move to private sector          822 non-null bool\n",
      "Interpersonal conflicts                822 non-null bool\n",
      "Job dissatisfaction                    822 non-null bool\n",
      "Dissatisfaction with the department    822 non-null bool\n",
      "Physical work environment              822 non-null bool\n",
      "Lack of recognition                    822 non-null bool\n",
      "Lack of job security                   822 non-null bool\n",
      "Work location                          822 non-null bool\n",
      "Employment conditions                  822 non-null bool\n",
      "Maternity/family                       822 non-null bool\n",
      "Relocation                             822 non-null bool\n",
      "Study/Travel                           822 non-null bool\n",
      "Ill Health                             822 non-null bool\n",
      "Traumatic incident                     822 non-null bool\n",
      "Work life balance                      822 non-null bool\n",
      "Workload                               822 non-null bool\n",
      "None of the above                      822 non-null bool\n",
      "Professional Development               808 non-null object\n",
      "Opportunities for promotion            735 non-null object\n",
      "Staff morale                           816 non-null object\n",
      "Workplace issue                        788 non-null object\n",
      "Physical environment                   817 non-null object\n",
      "Worklife balance                       815 non-null object\n",
      "Stress and pressure support            810 non-null object\n",
      "Performance of supervisor              813 non-null object\n",
      "Peer support                           812 non-null object\n",
      "Initiative                             813 non-null object\n",
      "Skills                                 811 non-null object\n",
      "Coach                                  767 non-null object\n",
      "Career Aspirations                     746 non-null object\n",
      "Feedback                               792 non-null object\n",
      "Further PD                             768 non-null object\n",
      "Communication                          814 non-null object\n",
      "My say                                 812 non-null object\n",
      "Information                            816 non-null object\n",
      "Kept informed                          813 non-null object\n",
      "Wellness programs                      766 non-null object\n",
      "Health & Safety                        793 non-null object\n",
      "Gender                                 798 non-null object\n",
      "Age                                    811 non-null object\n",
      "Aboriginal                             16 non-null object\n",
      "Torres Strait                          3 non-null object\n",
      "South Sea                              7 non-null object\n",
      "Disability                             23 non-null object\n",
      "NESB                                   32 non-null object\n",
      "dtypes: bool(18), float64(2), int64(1), object(35)\n",
      "memory usage: 258.6+ KB\n",
      "None\n"
     ]
    }
   ],
   "source": [
    "dete_survey = pd.read_csv(\"dete_survey.csv\", na_values='Not Stated')\n",
    "print(dete_survey.head())\n",
    "print(dete_survey.info())"
   ]
  },
  {
   "cell_type": "markdown",
   "metadata": {},
   "source": [
    "There are a couple of columns with just a few missing values, where we would probably end up droping rows and there are a couple of columns with most of their values missing, probably due to some sort of issue."
   ]
  },
  {
   "cell_type": "code",
   "execution_count": 119,
   "metadata": {
    "collapsed": false
   },
   "outputs": [
    {
     "name": "stdout",
     "output_type": "stream",
     "text": [
      "      Record ID                              Institute  \\\n",
      "0  6.341330e+17  Southern Queensland Institute of TAFE   \n",
      "1  6.341337e+17            Mount Isa Institute of TAFE   \n",
      "\n",
      "                   WorkArea  CESSATION YEAR Reason for ceasing employment  \\\n",
      "0  Non-Delivery (corporate)          2010.0              Contract Expired   \n",
      "1  Non-Delivery (corporate)          2010.0                    Retirement   \n",
      "\n",
      "  Contributing Factors. Career Move - Public Sector   \\\n",
      "0                                                NaN   \n",
      "1                                                  -   \n",
      "\n",
      "  Contributing Factors. Career Move - Private Sector   \\\n",
      "0                                                NaN    \n",
      "1                                                  -    \n",
      "\n",
      "  Contributing Factors. Career Move - Self-employment  \\\n",
      "0                                                NaN    \n",
      "1                                                  -    \n",
      "\n",
      "  Contributing Factors. Ill Health Contributing Factors. Maternity/Family  \\\n",
      "0                              NaN                                    NaN   \n",
      "1                                -                                      -   \n",
      "\n",
      "                                     ...                                     \\\n",
      "0                                    ...                                      \n",
      "1                                    ...                                      \n",
      "\n",
      "  Workplace. Topic:Does your workplace promote a work culture free from all forms of unlawful discrimination?  \\\n",
      "0                                                Yes                                                            \n",
      "1                                                Yes                                                            \n",
      "\n",
      "  Workplace. Topic:Does your workplace promote and practice the principles of employment equity?  \\\n",
      "0                                                Yes                                               \n",
      "1                                                Yes                                               \n",
      "\n",
      "  Workplace. Topic:Does your workplace value the diversity of its employees?  \\\n",
      "0                                                Yes                           \n",
      "1                                                Yes                           \n",
      "\n",
      "  Workplace. Topic:Would you recommend the Institute as an employer to others?  \\\n",
      "0                                                Yes                             \n",
      "1                                                Yes                             \n",
      "\n",
      "  Gender. What is your Gender? CurrentAge. Current Age  \\\n",
      "0                       Female                  26  30   \n",
      "1                          NaN                     NaN   \n",
      "\n",
      "  Employment Type. Employment Type Classification. Classification  \\\n",
      "0              Temporary Full-time            Administration (AO)   \n",
      "1                              NaN                            NaN   \n",
      "\n",
      "  LengthofServiceOverall. Overall Length of Service at Institute (in years)  \\\n",
      "0                                                1-2                          \n",
      "1                                                NaN                          \n",
      "\n",
      "  LengthofServiceCurrent. Length of Service at current workplace (in years)  \n",
      "0                                                1-2                         \n",
      "1                                                NaN                         \n",
      "\n",
      "[2 rows x 72 columns]\n",
      "<class 'pandas.core.frame.DataFrame'>\n",
      "RangeIndex: 702 entries, 0 to 701\n",
      "Data columns (total 72 columns):\n",
      "Record ID                                                                                                                                                        702 non-null float64\n",
      "Institute                                                                                                                                                        702 non-null object\n",
      "WorkArea                                                                                                                                                         702 non-null object\n",
      "CESSATION YEAR                                                                                                                                                   695 non-null float64\n",
      "Reason for ceasing employment                                                                                                                                    701 non-null object\n",
      "Contributing Factors. Career Move - Public Sector                                                                                                                437 non-null object\n",
      "Contributing Factors. Career Move - Private Sector                                                                                                               437 non-null object\n",
      "Contributing Factors. Career Move - Self-employment                                                                                                              437 non-null object\n",
      "Contributing Factors. Ill Health                                                                                                                                 437 non-null object\n",
      "Contributing Factors. Maternity/Family                                                                                                                           437 non-null object\n",
      "Contributing Factors. Dissatisfaction                                                                                                                            437 non-null object\n",
      "Contributing Factors. Job Dissatisfaction                                                                                                                        437 non-null object\n",
      "Contributing Factors. Interpersonal Conflict                                                                                                                     437 non-null object\n",
      "Contributing Factors. Study                                                                                                                                      437 non-null object\n",
      "Contributing Factors. Travel                                                                                                                                     437 non-null object\n",
      "Contributing Factors. Other                                                                                                                                      437 non-null object\n",
      "Contributing Factors. NONE                                                                                                                                       437 non-null object\n",
      "Main Factor. Which of these was the main factor for leaving?                                                                                                     113 non-null object\n",
      "InstituteViews. Topic:1. I feel the senior leadership had a clear vision and direction                                                                           608 non-null object\n",
      "InstituteViews. Topic:2. I was given access to skills training to help me do my job better                                                                       613 non-null object\n",
      "InstituteViews. Topic:3. I was given adequate opportunities for personal development                                                                             610 non-null object\n",
      "InstituteViews. Topic:4. I was given adequate opportunities for promotion within %Institute]Q25LBL%                                                              608 non-null object\n",
      "InstituteViews. Topic:5. I felt the salary for the job was right for the responsibilities I had                                                                  615 non-null object\n",
      "InstituteViews. Topic:6. The organisation recognised when staff did good work                                                                                    607 non-null object\n",
      "InstituteViews. Topic:7. Management was generally supportive of me                                                                                               614 non-null object\n",
      "InstituteViews. Topic:8. Management was generally supportive of my team                                                                                          608 non-null object\n",
      "InstituteViews. Topic:9. I was kept informed of the changes in the organisation which would affect me                                                            610 non-null object\n",
      "InstituteViews. Topic:10. Staff morale was positive within the Institute                                                                                         602 non-null object\n",
      "InstituteViews. Topic:11. If I had a workplace issue it was dealt with quickly                                                                                   601 non-null object\n",
      "InstituteViews. Topic:12. If I had a workplace issue it was dealt with efficiently                                                                               597 non-null object\n",
      "InstituteViews. Topic:13. If I had a workplace issue it was dealt with discreetly                                                                                601 non-null object\n",
      "WorkUnitViews. Topic:14. I was satisfied with the quality of the management and supervision within my work unit                                                  609 non-null object\n",
      "WorkUnitViews. Topic:15. I worked well with my colleagues                                                                                                        605 non-null object\n",
      "WorkUnitViews. Topic:16. My job was challenging and interesting                                                                                                  607 non-null object\n",
      "WorkUnitViews. Topic:17. I was encouraged to use my initiative in the course of my work                                                                          610 non-null object\n",
      "WorkUnitViews. Topic:18. I had sufficient contact with other people in my job                                                                                    613 non-null object\n",
      "WorkUnitViews. Topic:19. I was given adequate support and co-operation by my peers to enable me to do my job                                                     609 non-null object\n",
      "WorkUnitViews. Topic:20. I was able to use the full range of my skills in my job                                                                                 609 non-null object\n",
      "WorkUnitViews. Topic:21. I was able to use the full range of my abilities in my job. ; Category:Level of Agreement; Question:YOUR VIEWS ABOUT YOUR WORK UNIT]    608 non-null object\n",
      "WorkUnitViews. Topic:22. I was able to use the full range of my knowledge in my job                                                                              608 non-null object\n",
      "WorkUnitViews. Topic:23. My job provided sufficient variety                                                                                                      611 non-null object\n",
      "WorkUnitViews. Topic:24. I was able to cope with the level of stress and pressure in my job                                                                      610 non-null object\n",
      "WorkUnitViews. Topic:25. My job allowed me to balance the demands of work and family to my satisfaction                                                          611 non-null object\n",
      "WorkUnitViews. Topic:26. My supervisor gave me adequate personal recognition and feedback on my performance                                                      606 non-null object\n",
      "WorkUnitViews. Topic:27. My working environment was satisfactory e.g. sufficient space, good lighting, suitable seating and working area                         610 non-null object\n",
      "WorkUnitViews. Topic:28. I was given the opportunity to mentor and coach others in order for me to pass on my skills and knowledge prior to my cessation date    609 non-null object\n",
      "WorkUnitViews. Topic:29. There was adequate communication between staff in my unit                                                                               603 non-null object\n",
      "WorkUnitViews. Topic:30. Staff morale was positive within my work unit                                                                                           606 non-null object\n",
      "Induction. Did you undertake Workplace Induction?                                                                                                                619 non-null object\n",
      "InductionInfo. Topic:Did you undertake a Corporate Induction?                                                                                                    432 non-null object\n",
      "InductionInfo. Topic:Did you undertake a Institute Induction?                                                                                                    483 non-null object\n",
      "InductionInfo. Topic: Did you undertake Team Induction?                                                                                                          440 non-null object\n",
      "InductionInfo. Face to Face Topic:Did you undertake a Corporate Induction; Category:How it was conducted?                                                        555 non-null object\n",
      "InductionInfo. On-line Topic:Did you undertake a Corporate Induction; Category:How it was conducted?                                                             555 non-null object\n",
      "InductionInfo. Induction Manual Topic:Did you undertake a Corporate Induction?                                                                                   555 non-null object\n",
      "InductionInfo. Face to Face Topic:Did you undertake a Institute Induction?                                                                                       530 non-null object\n",
      "InductionInfo. On-line Topic:Did you undertake a Institute Induction?                                                                                            555 non-null object\n",
      "InductionInfo. Induction Manual Topic:Did you undertake a Institute Induction?                                                                                   553 non-null object\n",
      "InductionInfo. Face to Face Topic: Did you undertake Team Induction; Category?                                                                                   555 non-null object\n",
      "InductionInfo. On-line Topic: Did you undertake Team Induction?process you undertook and how it was conducted.]                                                  555 non-null object\n",
      "InductionInfo. Induction Manual Topic: Did you undertake Team Induction?                                                                                         555 non-null object\n",
      "Workplace. Topic:Did you and your Manager develop a Performance and Professional Development Plan (PPDP)?                                                        608 non-null object\n",
      "Workplace. Topic:Does your workplace promote a work culture free from all forms of unlawful discrimination?                                                      594 non-null object\n",
      "Workplace. Topic:Does your workplace promote and practice the principles of employment equity?                                                                   587 non-null object\n",
      "Workplace. Topic:Does your workplace value the diversity of its employees?                                                                                       586 non-null object\n",
      "Workplace. Topic:Would you recommend the Institute as an employer to others?                                                                                     581 non-null object\n",
      "Gender. What is your Gender?                                                                                                                                     596 non-null object\n",
      "CurrentAge. Current Age                                                                                                                                          596 non-null object\n",
      "Employment Type. Employment Type                                                                                                                                 596 non-null object\n",
      "Classification. Classification                                                                                                                                   596 non-null object\n",
      "LengthofServiceOverall. Overall Length of Service at Institute (in years)                                                                                        596 non-null object\n",
      "LengthofServiceCurrent. Length of Service at current workplace (in years)                                                                                        596 non-null object\n",
      "dtypes: float64(2), object(70)\n",
      "memory usage: 395.0+ KB\n",
      "None\n"
     ]
    }
   ],
   "source": [
    "tafe_survey = pd.read_csv(\"tafe_survey.csv\")\n",
    "print(tafe_survey.head(2))\n",
    "print(tafe_survey.info())"
   ]
  },
  {
   "cell_type": "code",
   "execution_count": 120,
   "metadata": {
    "collapsed": false
   },
   "outputs": [
    {
     "name": "stdout",
     "output_type": "stream",
     "text": [
      "<class 'pandas.core.frame.DataFrame'>\n",
      "RangeIndex: 702 entries, 0 to 701\n",
      "Data columns (total 72 columns):\n",
      "Record ID                                                                                                                                                        702 non-null float64\n",
      "Institute                                                                                                                                                        702 non-null object\n",
      "WorkArea                                                                                                                                                         702 non-null object\n",
      "CESSATION YEAR                                                                                                                                                   695 non-null float64\n",
      "Reason for ceasing employment                                                                                                                                    701 non-null object\n",
      "Contributing Factors. Career Move - Public Sector                                                                                                                437 non-null object\n",
      "Contributing Factors. Career Move - Private Sector                                                                                                               437 non-null object\n",
      "Contributing Factors. Career Move - Self-employment                                                                                                              437 non-null object\n",
      "Contributing Factors. Ill Health                                                                                                                                 437 non-null object\n",
      "Contributing Factors. Maternity/Family                                                                                                                           437 non-null object\n",
      "Contributing Factors. Dissatisfaction                                                                                                                            437 non-null object\n",
      "Contributing Factors. Job Dissatisfaction                                                                                                                        437 non-null object\n",
      "Contributing Factors. Interpersonal Conflict                                                                                                                     437 non-null object\n",
      "Contributing Factors. Study                                                                                                                                      437 non-null object\n",
      "Contributing Factors. Travel                                                                                                                                     437 non-null object\n",
      "Contributing Factors. Other                                                                                                                                      437 non-null object\n",
      "Contributing Factors. NONE                                                                                                                                       437 non-null object\n",
      "Main Factor. Which of these was the main factor for leaving?                                                                                                     113 non-null object\n",
      "InstituteViews. Topic:1. I feel the senior leadership had a clear vision and direction                                                                           608 non-null object\n",
      "InstituteViews. Topic:2. I was given access to skills training to help me do my job better                                                                       613 non-null object\n",
      "InstituteViews. Topic:3. I was given adequate opportunities for personal development                                                                             610 non-null object\n",
      "InstituteViews. Topic:4. I was given adequate opportunities for promotion within %Institute]Q25LBL%                                                              608 non-null object\n",
      "InstituteViews. Topic:5. I felt the salary for the job was right for the responsibilities I had                                                                  615 non-null object\n",
      "InstituteViews. Topic:6. The organisation recognised when staff did good work                                                                                    607 non-null object\n",
      "InstituteViews. Topic:7. Management was generally supportive of me                                                                                               614 non-null object\n",
      "InstituteViews. Topic:8. Management was generally supportive of my team                                                                                          608 non-null object\n",
      "InstituteViews. Topic:9. I was kept informed of the changes in the organisation which would affect me                                                            610 non-null object\n",
      "InstituteViews. Topic:10. Staff morale was positive within the Institute                                                                                         602 non-null object\n",
      "InstituteViews. Topic:11. If I had a workplace issue it was dealt with quickly                                                                                   601 non-null object\n",
      "InstituteViews. Topic:12. If I had a workplace issue it was dealt with efficiently                                                                               597 non-null object\n",
      "InstituteViews. Topic:13. If I had a workplace issue it was dealt with discreetly                                                                                601 non-null object\n",
      "WorkUnitViews. Topic:14. I was satisfied with the quality of the management and supervision within my work unit                                                  609 non-null object\n",
      "WorkUnitViews. Topic:15. I worked well with my colleagues                                                                                                        605 non-null object\n",
      "WorkUnitViews. Topic:16. My job was challenging and interesting                                                                                                  607 non-null object\n",
      "WorkUnitViews. Topic:17. I was encouraged to use my initiative in the course of my work                                                                          610 non-null object\n",
      "WorkUnitViews. Topic:18. I had sufficient contact with other people in my job                                                                                    613 non-null object\n",
      "WorkUnitViews. Topic:19. I was given adequate support and co-operation by my peers to enable me to do my job                                                     609 non-null object\n",
      "WorkUnitViews. Topic:20. I was able to use the full range of my skills in my job                                                                                 609 non-null object\n",
      "WorkUnitViews. Topic:21. I was able to use the full range of my abilities in my job. ; Category:Level of Agreement; Question:YOUR VIEWS ABOUT YOUR WORK UNIT]    608 non-null object\n",
      "WorkUnitViews. Topic:22. I was able to use the full range of my knowledge in my job                                                                              608 non-null object\n",
      "WorkUnitViews. Topic:23. My job provided sufficient variety                                                                                                      611 non-null object\n",
      "WorkUnitViews. Topic:24. I was able to cope with the level of stress and pressure in my job                                                                      610 non-null object\n",
      "WorkUnitViews. Topic:25. My job allowed me to balance the demands of work and family to my satisfaction                                                          611 non-null object\n",
      "WorkUnitViews. Topic:26. My supervisor gave me adequate personal recognition and feedback on my performance                                                      606 non-null object\n",
      "WorkUnitViews. Topic:27. My working environment was satisfactory e.g. sufficient space, good lighting, suitable seating and working area                         610 non-null object\n",
      "WorkUnitViews. Topic:28. I was given the opportunity to mentor and coach others in order for me to pass on my skills and knowledge prior to my cessation date    609 non-null object\n",
      "WorkUnitViews. Topic:29. There was adequate communication between staff in my unit                                                                               603 non-null object\n",
      "WorkUnitViews. Topic:30. Staff morale was positive within my work unit                                                                                           606 non-null object\n",
      "Induction. Did you undertake Workplace Induction?                                                                                                                619 non-null object\n",
      "InductionInfo. Topic:Did you undertake a Corporate Induction?                                                                                                    432 non-null object\n",
      "InductionInfo. Topic:Did you undertake a Institute Induction?                                                                                                    483 non-null object\n",
      "InductionInfo. Topic: Did you undertake Team Induction?                                                                                                          440 non-null object\n",
      "InductionInfo. Face to Face Topic:Did you undertake a Corporate Induction; Category:How it was conducted?                                                        555 non-null object\n",
      "InductionInfo. On-line Topic:Did you undertake a Corporate Induction; Category:How it was conducted?                                                             555 non-null object\n",
      "InductionInfo. Induction Manual Topic:Did you undertake a Corporate Induction?                                                                                   555 non-null object\n",
      "InductionInfo. Face to Face Topic:Did you undertake a Institute Induction?                                                                                       530 non-null object\n",
      "InductionInfo. On-line Topic:Did you undertake a Institute Induction?                                                                                            555 non-null object\n",
      "InductionInfo. Induction Manual Topic:Did you undertake a Institute Induction?                                                                                   553 non-null object\n",
      "InductionInfo. Face to Face Topic: Did you undertake Team Induction; Category?                                                                                   555 non-null object\n",
      "InductionInfo. On-line Topic: Did you undertake Team Induction?process you undertook and how it was conducted.]                                                  555 non-null object\n",
      "InductionInfo. Induction Manual Topic: Did you undertake Team Induction?                                                                                         555 non-null object\n",
      "Workplace. Topic:Did you and your Manager develop a Performance and Professional Development Plan (PPDP)?                                                        608 non-null object\n",
      "Workplace. Topic:Does your workplace promote a work culture free from all forms of unlawful discrimination?                                                      594 non-null object\n",
      "Workplace. Topic:Does your workplace promote and practice the principles of employment equity?                                                                   587 non-null object\n",
      "Workplace. Topic:Does your workplace value the diversity of its employees?                                                                                       586 non-null object\n",
      "Workplace. Topic:Would you recommend the Institute as an employer to others?                                                                                     581 non-null object\n",
      "Gender. What is your Gender?                                                                                                                                     596 non-null object\n",
      "CurrentAge. Current Age                                                                                                                                          596 non-null object\n",
      "Employment Type. Employment Type                                                                                                                                 596 non-null object\n",
      "Classification. Classification                                                                                                                                   596 non-null object\n",
      "LengthofServiceOverall. Overall Length of Service at Institute (in years)                                                                                        596 non-null object\n",
      "LengthofServiceCurrent. Length of Service at current workplace (in years)                                                                                        596 non-null object\n",
      "dtypes: float64(2), object(70)\n",
      "memory usage: 395.0+ KB\n"
     ]
    }
   ],
   "source": [
    "tafe_survey.info()"
   ]
  },
  {
   "cell_type": "markdown",
   "metadata": {},
   "source": [
    "There are a couple of columns with just a few missing values, where we would probably end up droping rows and there are a couple of columns with nearly half of their values missing, probably due to some sort of issue."
   ]
  },
  {
   "cell_type": "code",
   "execution_count": 121,
   "metadata": {
    "collapsed": false
   },
   "outputs": [],
   "source": [
    "dete_survey_updated = dete_survey.drop(dete_survey.columns[28:49], axis=1)\n",
    "tafe_survey_updated = tafe_survey.drop(tafe_survey.columns[17:66], axis=1)"
   ]
  },
  {
   "cell_type": "markdown",
   "metadata": {},
   "source": [
    "We can first make the following observations:\n",
    "\n",
    "- The `dete_survey` dataframe contains `'Not Stated'` values that indicate values are missing, but they aren't represented as `NaN`.\n",
    "- Both the `dete_survey` and `tafe_survey` dataframes contain many columns that we don't need to complete our analysis.\n",
    "- Each dataframe contains many of the same columns, but the column names are different.\n",
    "- There are multiple columns/answers that indicate an employee resigned because they were dissatisfied.\n",
    "\n",
    "To start, we'll handle the first two issues. We used the `pd.read_csv()` function to specify values that should be represented as `NaN`. We used this function to fix the missing values first. Then, we dropped columns we know we don't need for our analysis."
   ]
  },
  {
   "cell_type": "code",
   "execution_count": 122,
   "metadata": {
    "collapsed": false
   },
   "outputs": [
    {
     "data": {
      "text/plain": [
       "Index(['id', 'separationtype', 'cease_date', 'dete_start_date',\n",
       "       'role_start_date', 'position', 'classification', 'region',\n",
       "       'business_unit', 'employment_status', 'career_move_to_public_sector',\n",
       "       'career_move_to_private_sector', 'interpersonal_conflicts',\n",
       "       'job_dissatisfaction', 'dissatisfaction_with_the_department',\n",
       "       'physical_work_environment', 'lack_of_recognition',\n",
       "       'lack_of_job_security', 'work_location', 'employment_conditions',\n",
       "       'maternity/family', 'relocation', 'study/travel', 'ill_health',\n",
       "       'traumatic_incident', 'work_life_balance', 'workload',\n",
       "       'none_of_the_above', 'gender', 'age', 'aboriginal', 'torres_strait',\n",
       "       'south_sea', 'disability', 'nesb'],\n",
       "      dtype='object')"
      ]
     },
     "execution_count": 122,
     "metadata": {},
     "output_type": "execute_result"
    }
   ],
   "source": [
    "dete_survey_updated.columns = dete_survey_updated.columns.str.lower().str.strip().str.replace(' ', '_')\n",
    "dete_survey_updated.columns"
   ]
  },
  {
   "cell_type": "code",
   "execution_count": 123,
   "metadata": {
    "collapsed": false
   },
   "outputs": [
    {
     "data": {
      "text/plain": [
       "Index(['id', 'Institute', 'WorkArea', 'cease_date', 'separationtype',\n",
       "       'Contributing Factors. Career Move - Public Sector ',\n",
       "       'Contributing Factors. Career Move - Private Sector ',\n",
       "       'Contributing Factors. Career Move - Self-employment',\n",
       "       'Contributing Factors. Ill Health',\n",
       "       'Contributing Factors. Maternity/Family',\n",
       "       'Contributing Factors. Dissatisfaction',\n",
       "       'Contributing Factors. Job Dissatisfaction',\n",
       "       'Contributing Factors. Interpersonal Conflict',\n",
       "       'Contributing Factors. Study', 'Contributing Factors. Travel',\n",
       "       'Contributing Factors. Other', 'Contributing Factors. NONE', 'gender',\n",
       "       'age', 'employment_status', 'position', 'institute_service',\n",
       "       'LengthofServiceCurrent. Length of Service at current workplace (in years)'],\n",
       "      dtype='object')"
      ]
     },
     "execution_count": 123,
     "metadata": {},
     "output_type": "execute_result"
    }
   ],
   "source": [
    "tafe_survey_updated = tafe_survey_updated.rename(columns={\n",
    "    'Record ID': 'id',\n",
    "    'CESSATION YEAR': 'cease_date',\n",
    "    'Reason for ceasing employment': 'separationtype',\n",
    "    'Gender. What is your Gender?': 'gender',\n",
    "    'CurrentAge. Current Age': 'age',\n",
    "    'Employment Type. Employment Type': 'employment_status',\n",
    "    'Classification. Classification': 'position',\n",
    "    'LengthofServiceOverall. Overall Length of Service at Institute (in years)': 'institute_service'\n",
    "})\n",
    "tafe_survey_updated.columns"
   ]
  },
  {
   "cell_type": "code",
   "execution_count": 124,
   "metadata": {
    "collapsed": false
   },
   "outputs": [
    {
     "name": "stdout",
     "output_type": "stream",
     "text": [
      "   id                    separationtype cease_date  dete_start_date  \\\n",
      "0   1             Ill Health Retirement    08/2012           1984.0   \n",
      "1   2  Voluntary Early Retirement (VER)    08/2012              NaN   \n",
      "2   3  Voluntary Early Retirement (VER)    05/2012           2011.0   \n",
      "\n",
      "   role_start_date         position classification          region  \\\n",
      "0           2004.0   Public Servant        A01-A04  Central Office   \n",
      "1              NaN   Public Servant        AO5-AO7  Central Office   \n",
      "2           2011.0  Schools Officer            NaN  Central Office   \n",
      "\n",
      "                       business_unit    employment_status  ...   \\\n",
      "0  Corporate Strategy and Peformance  Permanent Full-time  ...    \n",
      "1  Corporate Strategy and Peformance  Permanent Full-time  ...    \n",
      "2               Education Queensland  Permanent Full-time  ...    \n",
      "\n",
      "   work_life_balance  workload  none_of_the_above  gender          age  \\\n",
      "0              False     False               True    Male        56-60   \n",
      "1              False     False              False    Male        56-60   \n",
      "2              False     False               True    Male  61 or older   \n",
      "\n",
      "   aboriginal  torres_strait  south_sea  disability  nesb  \n",
      "0         NaN            NaN        NaN         NaN   Yes  \n",
      "1         NaN            NaN        NaN         NaN   NaN  \n",
      "2         NaN            NaN        NaN         NaN   NaN  \n",
      "\n",
      "[3 rows x 35 columns]\n",
      "             id                              Institute  \\\n",
      "0  6.341330e+17  Southern Queensland Institute of TAFE   \n",
      "1  6.341337e+17            Mount Isa Institute of TAFE   \n",
      "2  6.341388e+17            Mount Isa Institute of TAFE   \n",
      "\n",
      "                   WorkArea  cease_date    separationtype  \\\n",
      "0  Non-Delivery (corporate)      2010.0  Contract Expired   \n",
      "1  Non-Delivery (corporate)      2010.0        Retirement   \n",
      "2       Delivery (teaching)      2010.0        Retirement   \n",
      "\n",
      "  Contributing Factors. Career Move - Public Sector   \\\n",
      "0                                                NaN   \n",
      "1                                                  -   \n",
      "2                                                  -   \n",
      "\n",
      "  Contributing Factors. Career Move - Private Sector   \\\n",
      "0                                                NaN    \n",
      "1                                                  -    \n",
      "2                                                  -    \n",
      "\n",
      "  Contributing Factors. Career Move - Self-employment  \\\n",
      "0                                                NaN    \n",
      "1                                                  -    \n",
      "2                                                  -    \n",
      "\n",
      "  Contributing Factors. Ill Health Contributing Factors. Maternity/Family  \\\n",
      "0                              NaN                                    NaN   \n",
      "1                                -                                      -   \n",
      "2                                -                                      -   \n",
      "\n",
      "                                     ...                                     \\\n",
      "0                                    ...                                      \n",
      "1                                    ...                                      \n",
      "2                                    ...                                      \n",
      "\n",
      "  Contributing Factors. Study Contributing Factors. Travel  \\\n",
      "0                         NaN                          NaN   \n",
      "1                           -                       Travel   \n",
      "2                           -                            -   \n",
      "\n",
      "  Contributing Factors. Other Contributing Factors. NONE  gender     age  \\\n",
      "0                         NaN                        NaN  Female  26  30   \n",
      "1                           -                          -     NaN     NaN   \n",
      "2                           -                       NONE     NaN     NaN   \n",
      "\n",
      "     employment_status             position institute_service  \\\n",
      "0  Temporary Full-time  Administration (AO)               1-2   \n",
      "1                  NaN                  NaN               NaN   \n",
      "2                  NaN                  NaN               NaN   \n",
      "\n",
      "  LengthofServiceCurrent. Length of Service at current workplace (in years)  \n",
      "0                                                1-2                         \n",
      "1                                                NaN                         \n",
      "2                                                NaN                         \n",
      "\n",
      "[3 rows x 23 columns]\n"
     ]
    }
   ],
   "source": [
    "print(dete_survey_updated.head(3))\n",
    "print(tafe_survey_updated.head(3))"
   ]
  },
  {
   "cell_type": "markdown",
   "metadata": {},
   "source": [
    "Each dataframe contains many of the same columns, but the column names are different. Because we eventually want to combine them, we'll have to standardize the column names.\n",
    "\n",
    "We renamed the remaining columns in the `dete_survey_updated` dataframe using the following criteria:\n",
    "\n",
    "- Make all the capitalization lowercase.\n",
    "- Remove any trailing whitespace from the end of the strings.\n",
    "- Replace spaces with underscores (`_`).\n",
    "\n",
    "We used the `DataFrame.rename()` method to update the columns below in `tafe_survey_updated`. The rest of the column names will be handled later.\n",
    "\n",
    "- `'Record ID': 'id'`\n",
    "- `'CESSATION YEAR': 'cease_date'`\n",
    "- `'Reason for ceasing employment': 'separationtype'`\n",
    "- `'Gender. What is your Gender?': 'gender'`\n",
    "- `'CurrentAge. Current Age': 'age'`\n",
    "- `'Employment Type. Employment Type': 'employment_status'`\n",
    "- ` 'Classification. Classification': 'position'`\n",
    "- ` 'LengthofServiceOverall. Overall Length of Service at Institute (in years)': 'institute_service'`\n"
   ]
  },
  {
   "cell_type": "code",
   "execution_count": 125,
   "metadata": {
    "collapsed": false
   },
   "outputs": [
    {
     "data": {
      "text/plain": [
       "Age Retirement                          285\n",
       "Resignation-Other reasons               150\n",
       "Resignation-Other employer               91\n",
       "Resignation-Move overseas/interstate     70\n",
       "Voluntary Early Retirement (VER)         67\n",
       "Ill Health Retirement                    61\n",
       "Other                                    49\n",
       "Contract Expired                         34\n",
       "Termination                              15\n",
       "Name: separationtype, dtype: int64"
      ]
     },
     "execution_count": 125,
     "metadata": {},
     "output_type": "execute_result"
    }
   ],
   "source": [
    "dete_survey_updated['separationtype'].value_counts()"
   ]
  },
  {
   "cell_type": "code",
   "execution_count": 126,
   "metadata": {
    "collapsed": false
   },
   "outputs": [
    {
     "data": {
      "text/plain": [
       "Resignation                 340\n",
       "Contract Expired            127\n",
       "Retrenchment/ Redundancy    104\n",
       "Retirement                   82\n",
       "Transfer                     25\n",
       "Termination                  23\n",
       "Name: separationtype, dtype: int64"
      ]
     },
     "execution_count": 126,
     "metadata": {},
     "output_type": "execute_result"
    }
   ],
   "source": [
    "tafe_survey_updated['separationtype'].value_counts()"
   ]
  },
  {
   "cell_type": "code",
   "execution_count": 127,
   "metadata": {
    "collapsed": false
   },
   "outputs": [],
   "source": [
    "cols = ['Resignation-Other reasons',\n",
    "        'Resignation-Other employer',\n",
    "        'Resignation-Move overseas/interstate',\n",
    "       ]\n",
    "\n",
    "dete_resignations = dete_survey_updated[\n",
    "                dete_survey_updated['separationtype'].isin(cols)\n",
    "                ].copy()\n",
    "\n",
    "tafe_resignations = tafe_survey_updated[\n",
    "                tafe_survey_updated['separationtype']=='Resignation'\n",
    "                ].copy()"
   ]
  },
  {
   "cell_type": "markdown",
   "metadata": {
    "collapsed": true
   },
   "source": [
    "We copied the dataframes to include only rows for employees who have resigned because this is what we are analysing."
   ]
  },
  {
   "cell_type": "code",
   "execution_count": 128,
   "metadata": {
    "collapsed": false
   },
   "outputs": [
    {
     "name": "stdout",
     "output_type": "stream",
     "text": [
      "2012       126\n",
      "2013        74\n",
      "01/2014     22\n",
      "12/2013     17\n",
      "06/2013     14\n",
      "09/2013     11\n",
      "11/2013      9\n",
      "07/2013      9\n",
      "10/2013      6\n",
      "08/2013      4\n",
      "05/2013      2\n",
      "05/2012      2\n",
      "09/2010      1\n",
      "07/2006      1\n",
      "07/2012      1\n",
      "2010         1\n",
      "Name: cease_date, dtype: int64\n"
     ]
    }
   ],
   "source": [
    "print(dete_resignations['cease_date'].value_counts(ascending=False))"
   ]
  },
  {
   "cell_type": "code",
   "execution_count": 129,
   "metadata": {
    "collapsed": false
   },
   "outputs": [],
   "source": [
    "pattern = r\"([1-2][0-9]{3})\"\n",
    "years = dete_resignations['cease_date'].str.extract(pattern, expand=False).astype(float)\n",
    "dete_resignations['cease_year'] = years"
   ]
  },
  {
   "cell_type": "code",
   "execution_count": 130,
   "metadata": {
    "collapsed": false,
    "scrolled": true
   },
   "outputs": [
    {
     "name": "stdout",
     "output_type": "stream",
     "text": [
      "2011.0    24\n",
      "2008.0    22\n",
      "2007.0    21\n",
      "2012.0    21\n",
      "2010.0    17\n",
      "2005.0    15\n",
      "2004.0    14\n",
      "2009.0    13\n",
      "2006.0    13\n",
      "2013.0    10\n",
      "2000.0     9\n",
      "1999.0     8\n",
      "1996.0     6\n",
      "2002.0     6\n",
      "1992.0     6\n",
      "1998.0     6\n",
      "2003.0     6\n",
      "1994.0     6\n",
      "1993.0     5\n",
      "1990.0     5\n",
      "1980.0     5\n",
      "1997.0     5\n",
      "1991.0     4\n",
      "1989.0     4\n",
      "1988.0     4\n",
      "1995.0     4\n",
      "2001.0     3\n",
      "1985.0     3\n",
      "1986.0     3\n",
      "1983.0     2\n",
      "1976.0     2\n",
      "1974.0     2\n",
      "1971.0     1\n",
      "1972.0     1\n",
      "1984.0     1\n",
      "1982.0     1\n",
      "1987.0     1\n",
      "1975.0     1\n",
      "1973.0     1\n",
      "1977.0     1\n",
      "1963.0     1\n",
      "Name: dete_start_date, dtype: int64\n"
     ]
    }
   ],
   "source": [
    "print(dete_resignations['dete_start_date'].value_counts(ascending=False))"
   ]
  },
  {
   "cell_type": "code",
   "execution_count": 131,
   "metadata": {
    "collapsed": false
   },
   "outputs": [
    {
     "name": "stdout",
     "output_type": "stream",
     "text": [
      "2011.0    116\n",
      "2012.0     94\n",
      "2010.0     68\n",
      "2013.0     55\n",
      "2009.0      2\n",
      "Name: cease_date, dtype: int64\n"
     ]
    }
   ],
   "source": [
    "print(tafe_resignations['cease_date'].value_counts(ascending=False))"
   ]
  },
  {
   "cell_type": "code",
   "execution_count": 132,
   "metadata": {
    "collapsed": false
   },
   "outputs": [
    {
     "data": {
      "text/plain": [
       "<matplotlib.text.Text at 0x7f060c27b390>"
      ]
     },
     "execution_count": 132,
     "metadata": {},
     "output_type": "execute_result"
    },
    {
     "data": {
      "image/png": "[encoded data removed]",
      "text/plain": [
       "<matplotlib.figure.Figure at 0x7f060c0eb400>"
      ]
     },
     "metadata": {},
     "output_type": "display_data"
    }
   ],
   "source": [
    "# fig = plt.figure()\n",
    "# ax1 = fig.add_subplot(1, 3, 1)\n",
    "# ax2 = fig.add_subplot(1, 3, 2)\n",
    "# ax3 = fig.add_subplot(1, 3, 3)\n",
    "# ax1.boxplot(tafe_resignations['cease_date'].values)\n",
    "# plt.show()\n",
    "\n",
    "ax = tafe_resignations.boxplot(column='cease_date')\n",
    "ax.set_title('Cease Date for TAFE')"
   ]
  },
  {
   "cell_type": "code",
   "execution_count": 133,
   "metadata": {
    "collapsed": false
   },
   "outputs": [
    {
     "data": {
      "text/plain": [
       "<matplotlib.text.Text at 0x7f060a66f2e8>"
      ]
     },
     "execution_count": 133,
     "metadata": {},
     "output_type": "execute_result"
    },
    {
     "data": {
      "image/png": "[encoded data removed]",
      "text/plain": [
       "<matplotlib.figure.Figure at 0x7f060e6d5550>"
      ]
     },
     "metadata": {},
     "output_type": "display_data"
    }
   ],
   "source": [
    "ax2 = dete_resignations.boxplot(column='cease_year')\n",
    "ax2.set_title('Cease Date for DETE')"
   ]
  },
  {
   "cell_type": "code",
   "execution_count": 134,
   "metadata": {
    "collapsed": false
   },
   "outputs": [
    {
     "data": {
      "text/plain": [
       "<matplotlib.text.Text at 0x7f060a5e6630>"
      ]
     },
     "execution_count": 134,
     "metadata": {},
     "output_type": "execute_result"
    },
    {
     "data": {
      "image/png": "[encoded data removed]",
      "text/plain": [
       "<matplotlib.figure.Figure at 0x7f060a6333c8>"
      ]
     },
     "metadata": {},
     "output_type": "display_data"
    }
   ],
   "source": [
    "ax3 = dete_resignations.boxplot(column='dete_start_date')\n",
    "ax3.set_title('Start Date for DETE')"
   ]
  },
  {
   "cell_type": "markdown",
   "metadata": {},
   "source": [
    "Include findings here ---> <---"
   ]
  },
  {
   "cell_type": "code",
   "execution_count": 135,
   "metadata": {
    "collapsed": false
   },
   "outputs": [
    {
     "data": {
      "text/html": [
       "<div>\n",
       "<style scoped>\n",
       "    .dataframe tbody tr th:only-of-type {\n",
       "        vertical-align: middle;\n",
       "    }\n",
       "\n",
       "    .dataframe tbody tr th {\n",
       "        vertical-align: top;\n",
       "    }\n",
       "\n",
       "    .dataframe thead th {\n",
       "        text-align: right;\n",
       "    }\n",
       "</style>\n",
       "<table border=\"1\" class=\"dataframe\">\n",
       "  <thead>\n",
       "    <tr style=\"text-align: right;\">\n",
       "      <th></th>\n",
       "      <th>id</th>\n",
       "      <th>separationtype</th>\n",
       "      <th>cease_date</th>\n",
       "      <th>dete_start_date</th>\n",
       "      <th>role_start_date</th>\n",
       "      <th>position</th>\n",
       "      <th>classification</th>\n",
       "      <th>region</th>\n",
       "      <th>business_unit</th>\n",
       "      <th>employment_status</th>\n",
       "      <th>...</th>\n",
       "      <th>workload</th>\n",
       "      <th>none_of_the_above</th>\n",
       "      <th>gender</th>\n",
       "      <th>age</th>\n",
       "      <th>aboriginal</th>\n",
       "      <th>torres_strait</th>\n",
       "      <th>south_sea</th>\n",
       "      <th>disability</th>\n",
       "      <th>nesb</th>\n",
       "      <th>cease_year</th>\n",
       "    </tr>\n",
       "  </thead>\n",
       "  <tbody>\n",
       "    <tr>\n",
       "      <th>3</th>\n",
       "      <td>4</td>\n",
       "      <td>Resignation-Other reasons</td>\n",
       "      <td>05/2012</td>\n",
       "      <td>2005.0</td>\n",
       "      <td>2006.0</td>\n",
       "      <td>Teacher</td>\n",
       "      <td>Primary</td>\n",
       "      <td>Central Queensland</td>\n",
       "      <td>NaN</td>\n",
       "      <td>Permanent Full-time</td>\n",
       "      <td>...</td>\n",
       "      <td>False</td>\n",
       "      <td>False</td>\n",
       "      <td>Female</td>\n",
       "      <td>36-40</td>\n",
       "      <td>NaN</td>\n",
       "      <td>NaN</td>\n",
       "      <td>NaN</td>\n",
       "      <td>NaN</td>\n",
       "      <td>NaN</td>\n",
       "      <td>2012.0</td>\n",
       "    </tr>\n",
       "    <tr>\n",
       "      <th>5</th>\n",
       "      <td>6</td>\n",
       "      <td>Resignation-Other reasons</td>\n",
       "      <td>05/2012</td>\n",
       "      <td>1994.0</td>\n",
       "      <td>1997.0</td>\n",
       "      <td>Guidance Officer</td>\n",
       "      <td>NaN</td>\n",
       "      <td>Central Office</td>\n",
       "      <td>Education Queensland</td>\n",
       "      <td>Permanent Full-time</td>\n",
       "      <td>...</td>\n",
       "      <td>False</td>\n",
       "      <td>False</td>\n",
       "      <td>Female</td>\n",
       "      <td>41-45</td>\n",
       "      <td>NaN</td>\n",
       "      <td>NaN</td>\n",
       "      <td>NaN</td>\n",
       "      <td>NaN</td>\n",
       "      <td>NaN</td>\n",
       "      <td>2012.0</td>\n",
       "    </tr>\n",
       "    <tr>\n",
       "      <th>8</th>\n",
       "      <td>9</td>\n",
       "      <td>Resignation-Other reasons</td>\n",
       "      <td>07/2012</td>\n",
       "      <td>2009.0</td>\n",
       "      <td>2009.0</td>\n",
       "      <td>Teacher</td>\n",
       "      <td>Secondary</td>\n",
       "      <td>North Queensland</td>\n",
       "      <td>NaN</td>\n",
       "      <td>Permanent Full-time</td>\n",
       "      <td>...</td>\n",
       "      <td>False</td>\n",
       "      <td>False</td>\n",
       "      <td>Female</td>\n",
       "      <td>31-35</td>\n",
       "      <td>NaN</td>\n",
       "      <td>NaN</td>\n",
       "      <td>NaN</td>\n",
       "      <td>NaN</td>\n",
       "      <td>NaN</td>\n",
       "      <td>2012.0</td>\n",
       "    </tr>\n",
       "    <tr>\n",
       "      <th>9</th>\n",
       "      <td>10</td>\n",
       "      <td>Resignation-Other employer</td>\n",
       "      <td>2012</td>\n",
       "      <td>1997.0</td>\n",
       "      <td>2008.0</td>\n",
       "      <td>Teacher Aide</td>\n",
       "      <td>NaN</td>\n",
       "      <td>NaN</td>\n",
       "      <td>NaN</td>\n",
       "      <td>Permanent Part-time</td>\n",
       "      <td>...</td>\n",
       "      <td>False</td>\n",
       "      <td>False</td>\n",
       "      <td>Female</td>\n",
       "      <td>46-50</td>\n",
       "      <td>NaN</td>\n",
       "      <td>NaN</td>\n",
       "      <td>NaN</td>\n",
       "      <td>NaN</td>\n",
       "      <td>NaN</td>\n",
       "      <td>2012.0</td>\n",
       "    </tr>\n",
       "    <tr>\n",
       "      <th>11</th>\n",
       "      <td>12</td>\n",
       "      <td>Resignation-Move overseas/interstate</td>\n",
       "      <td>2012</td>\n",
       "      <td>2009.0</td>\n",
       "      <td>2009.0</td>\n",
       "      <td>Teacher</td>\n",
       "      <td>Secondary</td>\n",
       "      <td>Far North Queensland</td>\n",
       "      <td>NaN</td>\n",
       "      <td>Permanent Full-time</td>\n",
       "      <td>...</td>\n",
       "      <td>False</td>\n",
       "      <td>False</td>\n",
       "      <td>Male</td>\n",
       "      <td>31-35</td>\n",
       "      <td>NaN</td>\n",
       "      <td>NaN</td>\n",
       "      <td>NaN</td>\n",
       "      <td>NaN</td>\n",
       "      <td>NaN</td>\n",
       "      <td>2012.0</td>\n",
       "    </tr>\n",
       "  </tbody>\n",
       "</table>\n",
       "<p>5 rows × 36 columns</p>\n",
       "</div>"
      ],
      "text/plain": [
       "    id                        separationtype cease_date  dete_start_date  \\\n",
       "3    4             Resignation-Other reasons    05/2012           2005.0   \n",
       "5    6             Resignation-Other reasons    05/2012           1994.0   \n",
       "8    9             Resignation-Other reasons    07/2012           2009.0   \n",
       "9   10            Resignation-Other employer       2012           1997.0   \n",
       "11  12  Resignation-Move overseas/interstate       2012           2009.0   \n",
       "\n",
       "    role_start_date          position classification                region  \\\n",
       "3            2006.0           Teacher        Primary    Central Queensland   \n",
       "5            1997.0  Guidance Officer            NaN        Central Office   \n",
       "8            2009.0           Teacher      Secondary      North Queensland   \n",
       "9            2008.0      Teacher Aide            NaN                   NaN   \n",
       "11           2009.0           Teacher      Secondary  Far North Queensland   \n",
       "\n",
       "           business_unit    employment_status     ...      workload  \\\n",
       "3                    NaN  Permanent Full-time     ...         False   \n",
       "5   Education Queensland  Permanent Full-time     ...         False   \n",
       "8                    NaN  Permanent Full-time     ...         False   \n",
       "9                    NaN  Permanent Part-time     ...         False   \n",
       "11                   NaN  Permanent Full-time     ...         False   \n",
       "\n",
       "    none_of_the_above  gender    age  aboriginal  torres_strait  south_sea  \\\n",
       "3               False  Female  36-40         NaN            NaN        NaN   \n",
       "5               False  Female  41-45         NaN            NaN        NaN   \n",
       "8               False  Female  31-35         NaN            NaN        NaN   \n",
       "9               False  Female  46-50         NaN            NaN        NaN   \n",
       "11              False    Male  31-35         NaN            NaN        NaN   \n",
       "\n",
       "    disability  nesb  cease_year  \n",
       "3          NaN   NaN      2012.0  \n",
       "5          NaN   NaN      2012.0  \n",
       "8          NaN   NaN      2012.0  \n",
       "9          NaN   NaN      2012.0  \n",
       "11         NaN   NaN      2012.0  \n",
       "\n",
       "[5 rows x 36 columns]"
      ]
     },
     "execution_count": 135,
     "metadata": {},
     "output_type": "execute_result"
    }
   ],
   "source": [
    "dete_resignations.head()"
   ]
  },
  {
   "cell_type": "code",
   "execution_count": 136,
   "metadata": {
    "collapsed": false
   },
   "outputs": [],
   "source": [
    "dete_resignations['institute_service'] = dete_resignations['cease_year'] - dete_resignations['dete_start_date']"
   ]
  },
  {
   "cell_type": "code",
   "execution_count": 137,
   "metadata": {
    "collapsed": false
   },
   "outputs": [
    {
     "data": {
      "text/plain": [
       "5.0     23\n",
       "1.0     22\n",
       "3.0     20\n",
       "0.0     20\n",
       "6.0     17\n",
       "4.0     16\n",
       "9.0     14\n",
       "2.0     14\n",
       "7.0     13\n",
       "13.0     8\n",
       "8.0      8\n",
       "20.0     7\n",
       "15.0     7\n",
       "10.0     6\n",
       "22.0     6\n",
       "14.0     6\n",
       "17.0     6\n",
       "12.0     6\n",
       "16.0     5\n",
       "18.0     5\n",
       "23.0     4\n",
       "11.0     4\n",
       "24.0     4\n",
       "39.0     3\n",
       "19.0     3\n",
       "21.0     3\n",
       "32.0     3\n",
       "28.0     2\n",
       "26.0     2\n",
       "25.0     2\n",
       "30.0     2\n",
       "36.0     2\n",
       "29.0     1\n",
       "33.0     1\n",
       "42.0     1\n",
       "27.0     1\n",
       "41.0     1\n",
       "35.0     1\n",
       "38.0     1\n",
       "34.0     1\n",
       "49.0     1\n",
       "31.0     1\n",
       "Name: institute_service, dtype: int64"
      ]
     },
     "execution_count": 137,
     "metadata": {},
     "output_type": "execute_result"
    }
   ],
   "source": [
    "dete_resignations['institute_service'].value_counts()"
   ]
  },
  {
   "cell_type": "markdown",
   "metadata": {},
   "source": [
    "We created a new columns called `institute_service` in the `dete_resignations` dataframe to calculate the length of time the employee spent in their workplace."
   ]
  },
  {
   "cell_type": "code",
   "execution_count": 138,
   "metadata": {
    "collapsed": false
   },
   "outputs": [
    {
     "data": {
      "text/plain": [
       "-                                         277\n",
       "Contributing Factors. Dissatisfaction      55\n",
       "Name: Contributing Factors. Dissatisfaction, dtype: int64"
      ]
     },
     "execution_count": 138,
     "metadata": {},
     "output_type": "execute_result"
    }
   ],
   "source": [
    "tafe_resignations['Contributing Factors. Dissatisfaction'].value_counts()"
   ]
  },
  {
   "cell_type": "code",
   "execution_count": 139,
   "metadata": {
    "collapsed": false
   },
   "outputs": [
    {
     "data": {
      "text/plain": [
       "-                      270\n",
       "Job Dissatisfaction     62\n",
       "Name: Contributing Factors. Job Dissatisfaction, dtype: int64"
      ]
     },
     "execution_count": 139,
     "metadata": {},
     "output_type": "execute_result"
    }
   ],
   "source": [
    "tafe_resignations['Contributing Factors. Job Dissatisfaction'].value_counts()"
   ]
  },
  {
   "cell_type": "code",
   "execution_count": 140,
   "metadata": {
    "collapsed": false
   },
   "outputs": [],
   "source": [
    "def update_vals(value):\n",
    "    if pd.isnull(value):\n",
    "        return np.nan\n",
    "    elif value == \"-\":\n",
    "        return False\n",
    "    else:\n",
    "        return True"
   ]
  },
  {
   "cell_type": "code",
   "execution_count": 141,
   "metadata": {
    "collapsed": true
   },
   "outputs": [],
   "source": [
    "cols = ['Contributing Factors. Dissatisfaction', 'Contributing Factors. Job Dissatisfaction']\n",
    "tafe_resignations['dissatisfied'] = tafe_resignations[cols].applymap(update_vals).any(axis=1, skipna=False)\n"
   ]
  },
  {
   "cell_type": "code",
   "execution_count": 142,
   "metadata": {
    "collapsed": false
   },
   "outputs": [],
   "source": [
    "cols2 = [\n",
    "    'job_dissatisfaction',\n",
    "    'dissatisfaction_with_the_department',\n",
    "    'physical_work_environment',\n",
    "    'lack_of_recognition',\n",
    "    'lack_of_job_security',\n",
    "    'work_location',\n",
    "    'employment_conditions',\n",
    "    'work_life_balance',\n",
    "    'workload',\n",
    "    ]\n",
    "\n",
    "# print(dete_resignations[cols2[0]].value_counts())\n",
    "# print(dete_resignations[cols2[1]].value_counts())\n",
    "# print(dete_resignations[cols2[2]].value_counts())\n",
    "# print(dete_resignations[cols2[3]].value_counts())\n",
    "# print(dete_resignations[cols2[4]].value_counts())\n",
    "# print(dete_resignations[cols2[5]].value_counts())\n",
    "# print(dete_resignations[cols2[6]].value_counts())\n",
    "# print(dete_resignations[cols2[7]].value_counts())\n",
    "# print(dete_resignations[cols2[8]].value_counts())\n",
    "\n",
    "dete_resignations['dissatisfied']=dete_resignations[cols2].any(axis=1)"
   ]
  },
  {
   "cell_type": "code",
   "execution_count": 143,
   "metadata": {
    "collapsed": false
   },
   "outputs": [],
   "source": [
    "dete_resignations_up = dete_resignations.copy()\n",
    "tafe_resignations_up = tafe_resignations.copy()"
   ]
  },
  {
   "cell_type": "markdown",
   "metadata": {},
   "source": [
    "Include remarks here --> <--"
   ]
  },
  {
   "cell_type": "code",
   "execution_count": 144,
   "metadata": {
    "collapsed": true
   },
   "outputs": [],
   "source": [
    "dete_resignations_up['institute'] = \"DETE\"\n",
    "tafe_resignations_up['institute'] = \"TAFE\""
   ]
  },
  {
   "cell_type": "code",
   "execution_count": 145,
   "metadata": {
    "collapsed": false
   },
   "outputs": [
    {
     "data": {
      "text/plain": [
       "torres_strait                                                                  0\n",
       "south_sea                                                                      3\n",
       "aboriginal                                                                     7\n",
       "disability                                                                     8\n",
       "nesb                                                                           9\n",
       "business_unit                                                                 32\n",
       "classification                                                               161\n",
       "region                                                                       265\n",
       "role_start_date                                                              271\n",
       "dete_start_date                                                              283\n",
       "LengthofServiceCurrent. Length of Service at current workplace (in years)    290\n",
       "cease_year                                                                   300\n",
       "career_move_to_public_sector                                                 311\n",
       "dissatisfaction_with_the_department                                          311\n",
       "work_location                                                                311\n",
       "job_dissatisfaction                                                          311\n",
       "employment_conditions                                                        311\n",
       "workload                                                                     311\n",
       "lack_of_recognition                                                          311\n",
       "lack_of_job_security                                                         311\n",
       "interpersonal_conflicts                                                      311\n",
       "maternity/family                                                             311\n",
       "none_of_the_above                                                            311\n",
       "physical_work_environment                                                    311\n",
       "relocation                                                                   311\n",
       "study/travel                                                                 311\n",
       "traumatic_incident                                                           311\n",
       "work_life_balance                                                            311\n",
       "career_move_to_private_sector                                                311\n",
       "ill_health                                                                   311\n",
       "Contributing Factors. Career Move - Private Sector                           332\n",
       "Contributing Factors. Travel                                                 332\n",
       "Contributing Factors. Job Dissatisfaction                                    332\n",
       "Contributing Factors. Maternity/Family                                       332\n",
       "Contributing Factors. NONE                                                   332\n",
       "Contributing Factors. Dissatisfaction                                        332\n",
       "Contributing Factors. Other                                                  332\n",
       "Contributing Factors. Study                                                  332\n",
       "Contributing Factors. Ill Health                                             332\n",
       "Contributing Factors. Interpersonal Conflict                                 332\n",
       "Contributing Factors. Career Move - Self-employment                          332\n",
       "Contributing Factors. Career Move - Public Sector                            332\n",
       "WorkArea                                                                     340\n",
       "Institute                                                                    340\n",
       "institute_service                                                            563\n",
       "gender                                                                       592\n",
       "age                                                                          596\n",
       "employment_status                                                            597\n",
       "position                                                                     598\n",
       "cease_date                                                                   635\n",
       "dissatisfied                                                                 643\n",
       "id                                                                           651\n",
       "institute                                                                    651\n",
       "separationtype                                                               651\n",
       "dtype: int64"
      ]
     },
     "execution_count": 145,
     "metadata": {},
     "output_type": "execute_result"
    }
   ],
   "source": [
    "combined = pd.concat([dete_resignations_up, tafe_resignations_up], ignore_index=True)\n",
    "combined.notnull().sum().sort_values()"
   ]
  },
  {
   "cell_type": "code",
   "execution_count": 146,
   "metadata": {
    "collapsed": false
   },
   "outputs": [
    {
     "data": {
      "text/plain": [
       "Index(['age', 'cease_date', 'dissatisfied', 'employment_status', 'gender',\n",
       "       'id', 'institute', 'institute_service', 'position', 'separationtype'],\n",
       "      dtype='object')"
      ]
     },
     "execution_count": 146,
     "metadata": {},
     "output_type": "execute_result"
    }
   ],
   "source": [
    "combined_updated = combined.dropna(thresh=500, axis=1).copy()\n",
    "combined_updated.columns"
   ]
  },
  {
   "cell_type": "markdown",
   "metadata": {},
   "source": [
    "Include explanation --> <--"
   ]
  },
  {
   "cell_type": "code",
   "execution_count": 147,
   "metadata": {
    "collapsed": false
   },
   "outputs": [],
   "source": [
    "pattern = r'(\\d+)'\n",
    "combined_updated['institute_service_up']= combined_updated['institute_service'].astype('str').str.extract(pattern, expand=False).astype(float)\n",
    "# combined_updated.columns"
   ]
  },
  {
   "cell_type": "code",
   "execution_count": 148,
   "metadata": {
    "collapsed": false
   },
   "outputs": [],
   "source": [
    "def career_stage(year_value):\n",
    "    year_value = float(year_value)\n",
    "    if year_value >= 11:\n",
    "        return \"Veteran\"\n",
    "    elif year_value >= 7:\n",
    "        return \"Established\"\n",
    "    elif year_value >= 3:\n",
    "        return \"Experienced\"\n",
    "    elif pd.isnull(year_value):\n",
    "        return np.nan\n",
    "    else:\n",
    "        return \"New\"\n",
    "\n",
    "combined_updated['service_cat'] = combined_updated['institute_service_up'].apply(career_stage)"
   ]
  },
  {
   "cell_type": "markdown",
   "metadata": {},
   "source": [
    "--> explanation here <--"
   ]
  },
  {
   "cell_type": "code",
   "execution_count": 149,
   "metadata": {
    "collapsed": false
   },
   "outputs": [
    {
     "data": {
      "text/plain": [
       "False    403\n",
       "True     240\n",
       "NaN        8\n",
       "Name: dissatisfied, dtype: int64"
      ]
     },
     "execution_count": 149,
     "metadata": {},
     "output_type": "execute_result"
    }
   ],
   "source": [
    "combined_updated['dissatisfied'].value_counts(dropna=False)"
   ]
  },
  {
   "cell_type": "code",
   "execution_count": 151,
   "metadata": {
    "collapsed": false
   },
   "outputs": [],
   "source": [
    "combined_updated['dissatisfied'] = combined_updated['dissatisfied'].fillna(False)"
   ]
  },
  {
   "cell_type": "code",
   "execution_count": 153,
   "metadata": {
    "collapsed": false
   },
   "outputs": [
    {
     "data": {
      "text/html": [
       "<div>\n",
       "<style scoped>\n",
       "    .dataframe tbody tr th:only-of-type {\n",
       "        vertical-align: middle;\n",
       "    }\n",
       "\n",
       "    .dataframe tbody tr th {\n",
       "        vertical-align: top;\n",
       "    }\n",
       "\n",
       "    .dataframe thead th {\n",
       "        text-align: right;\n",
       "    }\n",
       "</style>\n",
       "<table border=\"1\" class=\"dataframe\">\n",
       "  <thead>\n",
       "    <tr style=\"text-align: right;\">\n",
       "      <th></th>\n",
       "      <th>dissatisfied</th>\n",
       "    </tr>\n",
       "    <tr>\n",
       "      <th>service_cat</th>\n",
       "      <th></th>\n",
       "    </tr>\n",
       "  </thead>\n",
       "  <tbody>\n",
       "    <tr>\n",
       "      <th>Established</th>\n",
       "      <td>0.516129</td>\n",
       "    </tr>\n",
       "    <tr>\n",
       "      <th>Experienced</th>\n",
       "      <td>0.343023</td>\n",
       "    </tr>\n",
       "    <tr>\n",
       "      <th>New</th>\n",
       "      <td>0.295337</td>\n",
       "    </tr>\n",
       "    <tr>\n",
       "      <th>Veteran</th>\n",
       "      <td>0.485294</td>\n",
       "    </tr>\n",
       "  </tbody>\n",
       "</table>\n",
       "</div>"
      ],
      "text/plain": [
       "             dissatisfied\n",
       "service_cat              \n",
       "Established      0.516129\n",
       "Experienced      0.343023\n",
       "New              0.295337\n",
       "Veteran          0.485294"
      ]
     },
     "execution_count": 153,
     "metadata": {},
     "output_type": "execute_result"
    }
   ],
   "source": [
    "pv_cu = combined_updated.pivot_table('dissatisfied', 'service_cat')"
   ]
  },
  {
   "cell_type": "code",
   "execution_count": 154,
   "metadata": {
    "collapsed": false
   },
   "outputs": [
    {
     "ename": "NameError",
     "evalue": "name 'pv_cu' is not defined",
     "output_type": "error",
     "traceback": [
      "\u001b[1;31m\u001b[0m",
      "\u001b[1;31mNameError\u001b[0mTraceback (most recent call last)",
      "\u001b[1;32m<ipython-input-154-4e29d34c1958>\u001b[0m in \u001b[0;36m<module>\u001b[1;34m()\u001b[0m\n\u001b[1;32m----> 1\u001b[1;33m \u001b[0mpv_cu\u001b[0m\u001b[1;33m.\u001b[0m\u001b[0mplot\u001b[0m\u001b[1;33m(\u001b[0m\u001b[0mkind\u001b[0m\u001b[1;33m=\u001b[0m\u001b[1;34m'bar'\u001b[0m\u001b[1;33m)\u001b[0m\u001b[1;33m\u001b[0m\u001b[0m\n\u001b[0m",
      "\u001b[1;31mNameError\u001b[0m: name 'pv_cu' is not defined"
     ]
    }
   ],
   "source": [
    "pv_cu.plot(kind='bar')"
   ]
  },
  {
   "cell_type": "markdown",
   "metadata": {
    "collapsed": true
   },
   "source": [
    "--> Include observa"
   ]
  }
 ],
 "metadata": {
  "kernelspec": {
   "display_name": "Python 3",
   "language": "python",
   "name": "python3"
  },
  "language_info": {
   "codemirror_mode": {
    "name": "ipython",
    "version": 3
   },
   "file_extension": ".py",
   "mimetype": "text/x-python",
   "name": "python",
   "nbconvert_exporter": "python",
   "pygments_lexer": "ipython3",
   "version": "3.4.3"
  }
 },
 "nbformat": 4,
 "nbformat_minor": 2
}
